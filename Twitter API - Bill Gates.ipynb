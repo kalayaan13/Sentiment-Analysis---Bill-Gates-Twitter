{
 "cells": [
  {
   "cell_type": "markdown",
   "id": "6a90a8a4-9e8f-4ab7-a2da-4e3e32b36fb4",
   "metadata": {},
   "source": [
    "## Imports"
   ]
  },
  {
   "cell_type": "code",
   "execution_count": 190,
   "id": "0cae38d1-8a10-4312-94f6-c8c137909509",
   "metadata": {},
   "outputs": [],
   "source": [
    "import tweepy\n",
    "from textblob import TextBlob\n",
    "from wordcloud import WordCloud\n",
    "import pandas as pd\n",
    "import numpy as np\n",
    "import re\n",
    "import configparser\n",
    "import matplotlib.pyplot as plt\n",
    "plt.style.use('ggplot')"
   ]
  },
  {
   "cell_type": "markdown",
   "id": "b5290a8f-2949-472f-818a-b48bcb2164fe",
   "metadata": {},
   "source": [
    "## API Authentication"
   ]
  },
  {
   "cell_type": "markdown",
   "id": "c57a288e-4cd1-43c8-8fb9-94aef4cffb74",
   "metadata": {},
   "source": [
    "### Read Configs"
   ]
  },
  {
   "cell_type": "code",
   "execution_count": 191,
   "id": "915e56fb-abdc-4199-b873-57585f7c029f",
   "metadata": {},
   "outputs": [],
   "source": [
    "# Secure the necessary keys on config.ini file\n",
    "config = configparser.ConfigParser()\n",
    "config.read('config.ini')\n",
    "\n",
    "api_key = config['twitter']['api_key']\n",
    "api_key_secret = config['twitter']['api_key_secret']\n",
    "\n",
    "access_token = config['twitter']['access_token']\n",
    "access_token_secret = config['twitter']['access_token_secret']"
   ]
  },
  {
   "cell_type": "markdown",
   "id": "3ea1204c-31aa-4b30-9a8a-f2a977c784c2",
   "metadata": {},
   "source": [
    "### Tweepy Authentication"
   ]
  },
  {
   "cell_type": "code",
   "execution_count": 192,
   "id": "cb8ad544-a94e-49c2-bcab-c122e17fe9ec",
   "metadata": {},
   "outputs": [],
   "source": [
    "# Initialize API\n",
    "auth =  tweepy.OAuthHandler(api_key, api_key_secret)\n",
    "auth.set_access_token(access_token, access_token_secret)\n",
    "\n",
    "api = tweepy.API(auth)"
   ]
  },
  {
   "cell_type": "markdown",
   "id": "7580355a-3d83-4d18-bff5-fb6dd7200c86",
   "metadata": {},
   "source": [
    "## Collect tweets from Bill Gates"
   ]
  },
  {
   "cell_type": "code",
   "execution_count": 193,
   "id": "61fcffe5-7cd1-4efb-9458-3af39ec7795a",
   "metadata": {
    "tags": []
   },
   "outputs": [
    {
     "name": "stdout",
     "output_type": "stream",
     "text": [
      "Show the 5 recent tweets: \n",
      "\n",
      "1) @YONeal1 Nice! Happy Father’s Day to your fathers too!!\n",
      "\n",
      "2) @LanguageIgbo Thank you!\n",
      "\n",
      "3) I love you, Dad. https://t.co/GSqHUGlgt8\n",
      "\n",
      "4) @stewartbrand Stewart, I very much hope the future world gets many more “hucksters” like you. We will be better for it!\n",
      "\n",
      "5) Incredible https://t.co/mahsnjatRi\n",
      "\n"
     ]
    }
   ],
   "source": [
    "# Extract 100 tweets from the twitter user\n",
    "posts = api.user_timeline(screen_name=\"BillGates\", count=100, tweet_mode=\"extended\")\n",
    "\n",
    "# Print the lastest 5 tweets\n",
    "print(\"Show the 5 recent tweets: \\n\")\n",
    "i = 1\n",
    "for tweet in posts[0:5]:\n",
    "    print(str(i) + ') ' + tweet.full_text + '\\n')\n",
    "    i = i + 1"
   ]
  },
  {
   "cell_type": "markdown",
   "id": "bca22be0-b697-4da4-bddd-cec3d7c9828d",
   "metadata": {},
   "source": [
    "## Data Preparation"
   ]
  },
  {
   "cell_type": "markdown",
   "id": "18fb0156-1911-4273-a10b-6c603d4a6a27",
   "metadata": {},
   "source": [
    "### Store to pandas DataFrame"
   ]
  },
  {
   "cell_type": "code",
   "execution_count": 194,
   "id": "cc6eab76-a823-4688-9e6f-693026dce30b",
   "metadata": {},
   "outputs": [
    {
     "data": {
      "text/html": [
       "<div>\n",
       "<style scoped>\n",
       "    .dataframe tbody tr th:only-of-type {\n",
       "        vertical-align: middle;\n",
       "    }\n",
       "\n",
       "    .dataframe tbody tr th {\n",
       "        vertical-align: top;\n",
       "    }\n",
       "\n",
       "    .dataframe thead th {\n",
       "        text-align: right;\n",
       "    }\n",
       "</style>\n",
       "<table border=\"1\" class=\"dataframe\">\n",
       "  <thead>\n",
       "    <tr style=\"text-align: right;\">\n",
       "      <th></th>\n",
       "      <th>Tweets</th>\n",
       "    </tr>\n",
       "  </thead>\n",
       "  <tbody>\n",
       "    <tr>\n",
       "      <th>0</th>\n",
       "      <td>@YONeal1 Nice! Happy Father’s Day to your fath...</td>\n",
       "    </tr>\n",
       "    <tr>\n",
       "      <th>1</th>\n",
       "      <td>@LanguageIgbo Thank you!</td>\n",
       "    </tr>\n",
       "    <tr>\n",
       "      <th>2</th>\n",
       "      <td>I love you, Dad. https://t.co/GSqHUGlgt8</td>\n",
       "    </tr>\n",
       "    <tr>\n",
       "      <th>3</th>\n",
       "      <td>@stewartbrand Stewart, I very much hope the fu...</td>\n",
       "    </tr>\n",
       "    <tr>\n",
       "      <th>4</th>\n",
       "      <td>Incredible https://t.co/mahsnjatRi</td>\n",
       "    </tr>\n",
       "    <tr>\n",
       "      <th>...</th>\n",
       "      <td>...</td>\n",
       "    </tr>\n",
       "    <tr>\n",
       "      <th>95</th>\n",
       "      <td>At #COP26, Lauren and I discussed conservation...</td>\n",
       "    </tr>\n",
       "    <tr>\n",
       "      <th>96</th>\n",
       "      <td>Wonderful meeting with Tuntiak Katan from the ...</td>\n",
       "    </tr>\n",
       "    <tr>\n",
       "      <th>97</th>\n",
       "      <td>The Prince of Wales has been involved in fight...</td>\n",
       "    </tr>\n",
       "    <tr>\n",
       "      <th>98</th>\n",
       "      <td>“Closing my eyes now, I still feel that irresi...</td>\n",
       "    </tr>\n",
       "    <tr>\n",
       "      <th>99</th>\n",
       "      <td>Bill, Audrey, Chris, Glen — you’re about to sh...</td>\n",
       "    </tr>\n",
       "  </tbody>\n",
       "</table>\n",
       "<p>100 rows × 1 columns</p>\n",
       "</div>"
      ],
      "text/plain": [
       "                                               Tweets\n",
       "0   @YONeal1 Nice! Happy Father’s Day to your fath...\n",
       "1                            @LanguageIgbo Thank you!\n",
       "2            I love you, Dad. https://t.co/GSqHUGlgt8\n",
       "3   @stewartbrand Stewart, I very much hope the fu...\n",
       "4                  Incredible https://t.co/mahsnjatRi\n",
       "..                                                ...\n",
       "95  At #COP26, Lauren and I discussed conservation...\n",
       "96  Wonderful meeting with Tuntiak Katan from the ...\n",
       "97  The Prince of Wales has been involved in fight...\n",
       "98  “Closing my eyes now, I still feel that irresi...\n",
       "99  Bill, Audrey, Chris, Glen — you’re about to sh...\n",
       "\n",
       "[100 rows x 1 columns]"
      ]
     },
     "execution_count": 194,
     "metadata": {},
     "output_type": "execute_result"
    }
   ],
   "source": [
    "# Create DataFrame with a column name \"Tweets\"\n",
    "df = pd.DataFrame([tweet.full_text for tweet in posts], columns=['Tweets'])\n",
    "\n",
    "# Print the first five rows of data\n",
    "df"
   ]
  },
  {
   "cell_type": "markdown",
   "id": "31e5157a-5219-4266-bb1b-e1f6c42619d4",
   "metadata": {},
   "source": [
    "### Data Cleaning"
   ]
  },
  {
   "cell_type": "code",
   "execution_count": 195,
   "id": "187506e0-d73a-47e3-b0b3-e889b9b1347e",
   "metadata": {},
   "outputs": [
    {
     "data": {
      "text/html": [
       "<div>\n",
       "<style scoped>\n",
       "    .dataframe tbody tr th:only-of-type {\n",
       "        vertical-align: middle;\n",
       "    }\n",
       "\n",
       "    .dataframe tbody tr th {\n",
       "        vertical-align: top;\n",
       "    }\n",
       "\n",
       "    .dataframe thead th {\n",
       "        text-align: right;\n",
       "    }\n",
       "</style>\n",
       "<table border=\"1\" class=\"dataframe\">\n",
       "  <thead>\n",
       "    <tr style=\"text-align: right;\">\n",
       "      <th></th>\n",
       "      <th>Tweets</th>\n",
       "    </tr>\n",
       "  </thead>\n",
       "  <tbody>\n",
       "    <tr>\n",
       "      <th>0</th>\n",
       "      <td>Nice! Happy Father’s Day to your fathers too!!</td>\n",
       "    </tr>\n",
       "    <tr>\n",
       "      <th>1</th>\n",
       "      <td>Thank you!</td>\n",
       "    </tr>\n",
       "    <tr>\n",
       "      <th>2</th>\n",
       "      <td>I love you, Dad.</td>\n",
       "    </tr>\n",
       "    <tr>\n",
       "      <th>3</th>\n",
       "      <td>Stewart, I very much hope the future world ge...</td>\n",
       "    </tr>\n",
       "    <tr>\n",
       "      <th>4</th>\n",
       "      <td>Incredible</td>\n",
       "    </tr>\n",
       "    <tr>\n",
       "      <th>...</th>\n",
       "      <td>...</td>\n",
       "    </tr>\n",
       "    <tr>\n",
       "      <th>95</th>\n",
       "      <td>At COP26, Lauren and I discussed conservation ...</td>\n",
       "    </tr>\n",
       "    <tr>\n",
       "      <th>96</th>\n",
       "      <td>Wonderful meeting with Tuntiak Katan from the ...</td>\n",
       "    </tr>\n",
       "    <tr>\n",
       "      <th>97</th>\n",
       "      <td>The Prince of Wales has been involved in fight...</td>\n",
       "    </tr>\n",
       "    <tr>\n",
       "      <th>98</th>\n",
       "      <td>“Closing my eyes now, I still feel that irresi...</td>\n",
       "    </tr>\n",
       "    <tr>\n",
       "      <th>99</th>\n",
       "      <td>Bill, Audrey, Chris, Glen — you’re about to sh...</td>\n",
       "    </tr>\n",
       "  </tbody>\n",
       "</table>\n",
       "<p>100 rows × 1 columns</p>\n",
       "</div>"
      ],
      "text/plain": [
       "                                               Tweets\n",
       "0      Nice! Happy Father’s Day to your fathers too!!\n",
       "1                                          Thank you!\n",
       "2                                   I love you, Dad. \n",
       "3    Stewart, I very much hope the future world ge...\n",
       "4                                         Incredible \n",
       "..                                                ...\n",
       "95  At COP26, Lauren and I discussed conservation ...\n",
       "96  Wonderful meeting with Tuntiak Katan from the ...\n",
       "97  The Prince of Wales has been involved in fight...\n",
       "98  “Closing my eyes now, I still feel that irresi...\n",
       "99  Bill, Audrey, Chris, Glen — you’re about to sh...\n",
       "\n",
       "[100 rows x 1 columns]"
      ]
     },
     "execution_count": 195,
     "metadata": {},
     "output_type": "execute_result"
    }
   ],
   "source": [
    "# Create a function to clean data using Regular Expression Operations\n",
    "def cleanText(text):\n",
    "    text = re.sub(r'@[A-Za-z0-9]+', '', text)  # Remove the @usernames\n",
    "    text = re.sub(r'#', '', text)              # Remove the '#' characters\n",
    "    text = re.sub(r'RT[\\s]+', '', text)        # Remove the RT\n",
    "    text = re.sub(r'https?:\\/\\/\\S+', '', text) # Remove the website link\n",
    "    return text\n",
    "\n",
    "# Cleaning the text\n",
    "df['Tweets'] = df['Tweets'].apply(cleanText)\n",
    "\n",
    "# Show the cleaned text\n",
    "df"
   ]
  },
  {
   "cell_type": "markdown",
   "id": "76d0ad46-2293-43d6-a723-f80e5c73a127",
   "metadata": {},
   "source": [
    "## Sentiment Analysis"
   ]
  },
  {
   "cell_type": "markdown",
   "id": "f36877d3-da8c-4ed7-a629-df0a6f4f7867",
   "metadata": {},
   "source": [
    "### Subjectivity"
   ]
  },
  {
   "cell_type": "code",
   "execution_count": 196,
   "id": "981ce55a-bf78-405f-a533-e26d3ee02262",
   "metadata": {},
   "outputs": [],
   "source": [
    "# Create a function to get the Subjectivity\n",
    "def getSubjectivity(text):\n",
    "    return TextBlob(text).sentiment.subjectivity\n",
    "\n",
    "# Create new column\n",
    "df['Subjectivity'] = df['Tweets'].apply(getSubjectivity)"
   ]
  },
  {
   "cell_type": "markdown",
   "id": "5aa3239c-c0c9-42f7-808e-c9c07e515804",
   "metadata": {},
   "source": [
    "### Polarity Score"
   ]
  },
  {
   "cell_type": "code",
   "execution_count": 197,
   "id": "bbd94457-1aa3-40cf-89be-5e9b515aac5c",
   "metadata": {},
   "outputs": [],
   "source": [
    "# Create a function to get the Polarity\n",
    "def getPolarity(text):\n",
    "    return TextBlob(text).sentiment.polarity\n",
    "\n",
    "# Create new column\n",
    "df['Polarity'] = df['Tweets'].apply(getPolarity)"
   ]
  },
  {
   "cell_type": "markdown",
   "id": "2baec700-b95e-46f2-b95e-a32377b42c9d",
   "metadata": {},
   "source": [
    "### Show the DataFrame with the two new columns"
   ]
  },
  {
   "cell_type": "code",
   "execution_count": 198,
   "id": "6f3528e0-10a7-4580-843a-e30011876379",
   "metadata": {},
   "outputs": [
    {
     "data": {
      "text/html": [
       "<div>\n",
       "<style scoped>\n",
       "    .dataframe tbody tr th:only-of-type {\n",
       "        vertical-align: middle;\n",
       "    }\n",
       "\n",
       "    .dataframe tbody tr th {\n",
       "        vertical-align: top;\n",
       "    }\n",
       "\n",
       "    .dataframe thead th {\n",
       "        text-align: right;\n",
       "    }\n",
       "</style>\n",
       "<table border=\"1\" class=\"dataframe\">\n",
       "  <thead>\n",
       "    <tr style=\"text-align: right;\">\n",
       "      <th></th>\n",
       "      <th>Tweets</th>\n",
       "      <th>Subjectivity</th>\n",
       "      <th>Polarity</th>\n",
       "    </tr>\n",
       "  </thead>\n",
       "  <tbody>\n",
       "    <tr>\n",
       "      <th>0</th>\n",
       "      <td>Nice! Happy Father’s Day to your fathers too!!</td>\n",
       "      <td>1.000</td>\n",
       "      <td>0.8750</td>\n",
       "    </tr>\n",
       "    <tr>\n",
       "      <th>1</th>\n",
       "      <td>Thank you!</td>\n",
       "      <td>0.000</td>\n",
       "      <td>0.0000</td>\n",
       "    </tr>\n",
       "    <tr>\n",
       "      <th>2</th>\n",
       "      <td>I love you, Dad.</td>\n",
       "      <td>0.600</td>\n",
       "      <td>0.5000</td>\n",
       "    </tr>\n",
       "    <tr>\n",
       "      <th>3</th>\n",
       "      <td>Stewart, I very much hope the future world ge...</td>\n",
       "      <td>0.377</td>\n",
       "      <td>0.3770</td>\n",
       "    </tr>\n",
       "    <tr>\n",
       "      <th>4</th>\n",
       "      <td>Incredible</td>\n",
       "      <td>0.900</td>\n",
       "      <td>0.9000</td>\n",
       "    </tr>\n",
       "    <tr>\n",
       "      <th>...</th>\n",
       "      <td>...</td>\n",
       "      <td>...</td>\n",
       "      <td>...</td>\n",
       "    </tr>\n",
       "    <tr>\n",
       "      <th>95</th>\n",
       "      <td>At COP26, Lauren and I discussed conservation ...</td>\n",
       "      <td>0.500</td>\n",
       "      <td>0.5000</td>\n",
       "    </tr>\n",
       "    <tr>\n",
       "      <th>96</th>\n",
       "      <td>Wonderful meeting with Tuntiak Katan from the ...</td>\n",
       "      <td>0.500</td>\n",
       "      <td>0.5000</td>\n",
       "    </tr>\n",
       "    <tr>\n",
       "      <th>97</th>\n",
       "      <td>The Prince of Wales has been involved in fight...</td>\n",
       "      <td>0.875</td>\n",
       "      <td>0.4625</td>\n",
       "    </tr>\n",
       "    <tr>\n",
       "      <th>98</th>\n",
       "      <td>“Closing my eyes now, I still feel that irresi...</td>\n",
       "      <td>0.000</td>\n",
       "      <td>0.0000</td>\n",
       "    </tr>\n",
       "    <tr>\n",
       "      <th>99</th>\n",
       "      <td>Bill, Audrey, Chris, Glen — you’re about to sh...</td>\n",
       "      <td>0.000</td>\n",
       "      <td>0.0000</td>\n",
       "    </tr>\n",
       "  </tbody>\n",
       "</table>\n",
       "<p>100 rows × 3 columns</p>\n",
       "</div>"
      ],
      "text/plain": [
       "                                               Tweets  Subjectivity  Polarity\n",
       "0      Nice! Happy Father’s Day to your fathers too!!         1.000    0.8750\n",
       "1                                          Thank you!         0.000    0.0000\n",
       "2                                   I love you, Dad.          0.600    0.5000\n",
       "3    Stewart, I very much hope the future world ge...         0.377    0.3770\n",
       "4                                         Incredible          0.900    0.9000\n",
       "..                                                ...           ...       ...\n",
       "95  At COP26, Lauren and I discussed conservation ...         0.500    0.5000\n",
       "96  Wonderful meeting with Tuntiak Katan from the ...         0.500    0.5000\n",
       "97  The Prince of Wales has been involved in fight...         0.875    0.4625\n",
       "98  “Closing my eyes now, I still feel that irresi...         0.000    0.0000\n",
       "99  Bill, Audrey, Chris, Glen — you’re about to sh...         0.000    0.0000\n",
       "\n",
       "[100 rows x 3 columns]"
      ]
     },
     "execution_count": 198,
     "metadata": {},
     "output_type": "execute_result"
    }
   ],
   "source": [
    "df"
   ]
  },
  {
   "cell_type": "markdown",
   "id": "c4af27cd-bfc1-40ce-9f9c-fe42b343cf29",
   "metadata": {},
   "source": [
    "## Plot all the words using Word Cloud"
   ]
  },
  {
   "cell_type": "code",
   "execution_count": 199,
   "id": "a4d25fff-5ffa-4122-97fe-7a350ec6d459",
   "metadata": {},
   "outputs": [
    {
     "data": {
      "image/png": "[encoded data removed]",
      "text/plain": [
       "<Figure size 432x288 with 1 Axes>"
      ]
     },
     "metadata": {},
     "output_type": "display_data"
    },
    {
     "data": {
      "text/plain": [
       "<wordcloud.wordcloud.WordCloud at 0x1d6e66e0af0>"
      ]
     },
     "execution_count": 199,
     "metadata": {},
     "output_type": "execute_result"
    }
   ],
   "source": [
    "allWords = ' '.join( [twts for twts in df['Tweets']] )\n",
    "wordCloud = WordCloud(width=500, height=500, random_state=21, max_font_size=119).generate(allWords)\n",
    "\n",
    "plt.imshow(wordCloud, interpolation='bilinear')\n",
    "plt.axis('off')\n",
    "plt.show()\n",
    "\n",
    "# Save the Word Cloud\n",
    "wordCloud.to_file(\"wordcloud.png\")"
   ]
  },
  {
   "cell_type": "markdown",
   "id": "730422e9-a095-49cc-819a-1bc9958221c5",
   "metadata": {
    "tags": []
   },
   "source": [
    "## Analysis for Polarity Score"
   ]
  },
  {
   "cell_type": "code",
   "execution_count": 200,
   "id": "95fb7a98-96f3-4507-b7f6-08ec25ba28ba",
   "metadata": {},
   "outputs": [
    {
     "data": {
      "text/html": [
       "<div>\n",
       "<style scoped>\n",
       "    .dataframe tbody tr th:only-of-type {\n",
       "        vertical-align: middle;\n",
       "    }\n",
       "\n",
       "    .dataframe tbody tr th {\n",
       "        vertical-align: top;\n",
       "    }\n",
       "\n",
       "    .dataframe thead th {\n",
       "        text-align: right;\n",
       "    }\n",
       "</style>\n",
       "<table border=\"1\" class=\"dataframe\">\n",
       "  <thead>\n",
       "    <tr style=\"text-align: right;\">\n",
       "      <th></th>\n",
       "      <th>Tweets</th>\n",
       "      <th>Subjectivity</th>\n",
       "      <th>Polarity</th>\n",
       "      <th>Analysis</th>\n",
       "    </tr>\n",
       "  </thead>\n",
       "  <tbody>\n",
       "    <tr>\n",
       "      <th>0</th>\n",
       "      <td>Nice! Happy Father’s Day to your fathers too!!</td>\n",
       "      <td>1.000</td>\n",
       "      <td>0.8750</td>\n",
       "      <td>Positive</td>\n",
       "    </tr>\n",
       "    <tr>\n",
       "      <th>1</th>\n",
       "      <td>Thank you!</td>\n",
       "      <td>0.000</td>\n",
       "      <td>0.0000</td>\n",
       "      <td>Neutral</td>\n",
       "    </tr>\n",
       "    <tr>\n",
       "      <th>2</th>\n",
       "      <td>I love you, Dad.</td>\n",
       "      <td>0.600</td>\n",
       "      <td>0.5000</td>\n",
       "      <td>Positive</td>\n",
       "    </tr>\n",
       "    <tr>\n",
       "      <th>3</th>\n",
       "      <td>Stewart, I very much hope the future world ge...</td>\n",
       "      <td>0.377</td>\n",
       "      <td>0.3770</td>\n",
       "      <td>Positive</td>\n",
       "    </tr>\n",
       "    <tr>\n",
       "      <th>4</th>\n",
       "      <td>Incredible</td>\n",
       "      <td>0.900</td>\n",
       "      <td>0.9000</td>\n",
       "      <td>Positive</td>\n",
       "    </tr>\n",
       "    <tr>\n",
       "      <th>...</th>\n",
       "      <td>...</td>\n",
       "      <td>...</td>\n",
       "      <td>...</td>\n",
       "      <td>...</td>\n",
       "    </tr>\n",
       "    <tr>\n",
       "      <th>95</th>\n",
       "      <td>At COP26, Lauren and I discussed conservation ...</td>\n",
       "      <td>0.500</td>\n",
       "      <td>0.5000</td>\n",
       "      <td>Positive</td>\n",
       "    </tr>\n",
       "    <tr>\n",
       "      <th>96</th>\n",
       "      <td>Wonderful meeting with Tuntiak Katan from the ...</td>\n",
       "      <td>0.500</td>\n",
       "      <td>0.5000</td>\n",
       "      <td>Positive</td>\n",
       "    </tr>\n",
       "    <tr>\n",
       "      <th>97</th>\n",
       "      <td>The Prince of Wales has been involved in fight...</td>\n",
       "      <td>0.875</td>\n",
       "      <td>0.4625</td>\n",
       "      <td>Positive</td>\n",
       "    </tr>\n",
       "    <tr>\n",
       "      <th>98</th>\n",
       "      <td>“Closing my eyes now, I still feel that irresi...</td>\n",
       "      <td>0.000</td>\n",
       "      <td>0.0000</td>\n",
       "      <td>Neutral</td>\n",
       "    </tr>\n",
       "    <tr>\n",
       "      <th>99</th>\n",
       "      <td>Bill, Audrey, Chris, Glen — you’re about to sh...</td>\n",
       "      <td>0.000</td>\n",
       "      <td>0.0000</td>\n",
       "      <td>Neutral</td>\n",
       "    </tr>\n",
       "  </tbody>\n",
       "</table>\n",
       "<p>100 rows × 4 columns</p>\n",
       "</div>"
      ],
      "text/plain": [
       "                                               Tweets  Subjectivity  Polarity  \\\n",
       "0      Nice! Happy Father’s Day to your fathers too!!         1.000    0.8750   \n",
       "1                                          Thank you!         0.000    0.0000   \n",
       "2                                   I love you, Dad.          0.600    0.5000   \n",
       "3    Stewart, I very much hope the future world ge...         0.377    0.3770   \n",
       "4                                         Incredible          0.900    0.9000   \n",
       "..                                                ...           ...       ...   \n",
       "95  At COP26, Lauren and I discussed conservation ...         0.500    0.5000   \n",
       "96  Wonderful meeting with Tuntiak Katan from the ...         0.500    0.5000   \n",
       "97  The Prince of Wales has been involved in fight...         0.875    0.4625   \n",
       "98  “Closing my eyes now, I still feel that irresi...         0.000    0.0000   \n",
       "99  Bill, Audrey, Chris, Glen — you’re about to sh...         0.000    0.0000   \n",
       "\n",
       "    Analysis  \n",
       "0   Positive  \n",
       "1    Neutral  \n",
       "2   Positive  \n",
       "3   Positive  \n",
       "4   Positive  \n",
       "..       ...  \n",
       "95  Positive  \n",
       "96  Positive  \n",
       "97  Positive  \n",
       "98   Neutral  \n",
       "99   Neutral  \n",
       "\n",
       "[100 rows x 4 columns]"
      ]
     },
     "execution_count": 200,
     "metadata": {},
     "output_type": "execute_result"
    }
   ],
   "source": [
    "# Create a function to identify the negative, neutral and positive analysis for every tweet\n",
    "def getAnalysis(score):\n",
    "    if score < 0:\n",
    "        return 'Negative'\n",
    "    elif score == 0:\n",
    "        return 'Neutral'\n",
    "    else:\n",
    "        return 'Positive'\n",
    "    \n",
    "df['Analysis'] = df['Polarity'].apply(getAnalysis)\n",
    "\n",
    "# Show the DataFrame\n",
    "df"
   ]
  },
  {
   "cell_type": "markdown",
   "id": "9c9558b7-8153-4a8d-95d5-62ee87bc066f",
   "metadata": {
    "tags": []
   },
   "source": [
    "## Show all positive tweets"
   ]
  },
  {
   "cell_type": "code",
   "execution_count": 201,
   "id": "6aeb77b8-36be-423a-aad8-82216d9f1cba",
   "metadata": {
    "tags": []
   },
   "outputs": [
    {
     "name": "stdout",
     "output_type": "stream",
     "text": [
      "1)  Nice! Happy Father’s Day to your fathers too!!\n",
      "\n",
      "2) I love you, Dad. \n",
      "\n",
      "3)  Stewart, I very much hope the future world gets many more “hucksters” like you. We will be better for it!\n",
      "\n",
      "4) Incredible \n",
      "\n",
      "5)  Yes, a strong scent. “Non Legacy American” is so intellectually bankrupt.\n",
      "\n",
      "6) What a truly beautiful observation… \n",
      "\n",
      "7) Thanks for the history shout out here. Many twists and turns and failures and successes in those 23 years… \n",
      "\n",
      "8) _elenwo No, not really like that. He (Rob Hof) was just reporting accurately the general Wall Street sentiment. In fact, same reporter wrote a follow up ten years later. That kind of follow up is pretty rare in my experience and commendable.\n",
      "\n",
      "9) I have this old 2006 BusinessWeek framed as a reminder. The “risky bet” that Wall Street disliked was AWS, which generated revenue of more than $62 billion last year. \n",
      "\n",
      "10)  Seen you refer to yourself as a sh*tposter but maybe you’re mostly just a wiseposter.\n",
      "\n",
      "11) : Some left-leaning economists &amp; political operatives have been privately critical of Dems’ approach to inflation, much quieter…\n",
      "\n",
      "12)  Liked because I believe you’re 100% right\n",
      "\n",
      "13) their best to add another $3.5 TRILLION to federal spending. They failed, but if they had succeeded, inflation would be even higher than it is today, and inflation today is at a 40 year high.\n",
      "\n",
      "14) Look, a squirrel! This is the White House’s statement about my recent tweets. They understandably want to muddy the topic. They know inflation hurts the neediest the most. But unions aren’t causing inflation and neither are wealthy people.  Remember the Administration tried… \n",
      "\n",
      "15) 25 years ago yesterday, AMZN went public. As the Grateful Dead would say, “What a long, strange trip it’s been.”\n",
      "\n",
      "It’s been far from smooth. Lots of risk-taking, lots of invention, lots of mistakes, so much we still have to do better. I wouldn’t trade the ride for anything.\n",
      "\n",
      "16) In fact, the administration tried hard to inject even more stimulus into an already over-heated, inflationary economy and only Manchin saved them from themselves. Inflation is a regressive tax that most hurts the least affluent. Misdirection doesn’t help the country. \n",
      "\n",
      "17) The newly created Disinformation Board should review this tweet, or maybe they need to form a new Non Sequitur Board instead. Raising corp taxes is fine to discuss. Taming inflation is critical to discuss. Mushing them together is just misdirection. \n",
      "\n",
      "18)  Ha. Honesty and directness. Best bet.\n",
      "\n",
      "19)  Space squirrels are real.\n",
      "\n",
      "20)  For most things, six pages.\n",
      "\n",
      "21)  Happy about that. Thank you.\n",
      "\n",
      "22)  Damn good advice\n",
      "\n",
      "23) Slide decks are maybe useful for persuasion — think sales calls. But you don’t want that for internal decision meetings.\n",
      "\n",
      "24) Slide decks hide can shallow thinking. Narratively structured memos are harder to write because they require better thinking. It’s worth it. \n",
      "\n",
      "25)   I’d be a very happy software engineer somewhere.\n",
      "\n",
      "26) My dad is an intense, hard worker, and he’s also warm and teaches an easy smile and self-deprecating humor. My brother, sister and I could not have a better role model. We love him and are so proud of him for this well-deserved recognition from  \n",
      "\n",
      "27) Agree 100%. Would add: Civility is hard. Name calling and ad hominem attacks are easy and when you use them it makes it harder to work together. \n",
      "\n",
      "28) The Pulitzers’ gold medal prize for public service isn’t given to an individual but to the entire organization. Huge kudos and congrats to the whole Washington Post team! \n",
      "\n",
      "29) Mom, I have no idea how you did what you did.  You kept us both safe inside your heart. Thank you for sharing your strength and for all the sacrifices you made. I love you. \n",
      "\n",
      "30) Too many of our elected officials are still using these techniques…\n",
      "\n",
      "31) Bill is without doubt one of the smartest people I know and always worth listening to. Most people dramatically underestimate the remarkableness of this bull run. Such things are unstoppable … until they aren’t.  Markets teach. The lessons can be painful. \n",
      "\n",
      "32)  You’ve read seveneves 12 times?!!! Amazing. I knew you were a good follow!\n",
      "\n",
      "33) So damn cool. Congrats to MiMi and the whole Mars helicopter team. \n",
      "\n",
      "34) Now THAT’S a good use of twitter. \n",
      "\n",
      "35) But we’ll see. Musk is extremely good at navigating this kind of complexity.\n",
      "\n",
      "36) My own answer to this question is probably not. The more likely outcome in this regard is complexity in China for Tesla, rather than censorship at Twitter.\n",
      "\n",
      "37) Agree — this is a fascinating piece — no one drawn as a cartoon. Thanks for the link and reco. \n",
      "\n",
      "38) Interesting question. Did the Chinese government just gain a bit of leverage over the town square? \n",
      "\n",
      "39) One of the many steps we’re making to meet our Climate Pledge commitment. \n",
      "\n",
      "40) Pls consider taking a moment and voting for Van Jones and Uncommon Ground. He’s a passionate, courageous leader with a big tent approach — a unifier who stays focused on the mission and takes help from all corners. We’d all be a bit better off if more people took that approach. \n",
      "\n",
      "41) This piece by Jonathan Haidt is thoughtful, beautifully written, and important. Very worth the long read. \n",
      "\n",
      "42) : Wow is this good. Every would-be startup founder should read this. Everyone who cares about the future, because this is what the…\n",
      "\n",
      "43)   Yeah you have good hair. 😊 Nice meeting you and all the best.\n",
      "\n",
      "44) _sp  You’re thoughtful and thought-provoking. Gratitude. Please keep it up!\n",
      "\n",
      "45) Or do portion. Worked out great and makes it easy for employees who want to volunteer.  \n",
      "\n",
      "46) : The bill for magical thinking arrives with unpredictable timing but thunderous force.\n",
      "\n",
      "47) (2/2) and evaluates many factors including the ability to advance, skills growth, company stability, external opportunity, company affinity, and gender diversity.\n",
      "\n",
      "Thank you to each and every one of Amazon’s employees for all your hard work and dedication. It is Day 1.\n",
      "\n",
      "48) We must be better every day, and we know there is even more to do, but super proud of Amazon being ranked the 1 place where people want to work by LinkedIn. Their methodology uses LinkedIn’s unique data set from its 810 million members (1/2) \n",
      "\n",
      "49) We’ve just opened a second humanitarian aid hub to help Ukrainian refugees — this one in Poland. Like the first one we opened in Slovakia, it’s a fulfillment center dedicated to this issue, using our logistics and distribution experience to help. \n",
      "\n",
      "50) So great meeting you and learning about your work, Thomas. Incredible and inspiring. \n",
      "\n",
      "51) : We were fortunate to witness the beauty of Colombia's Chiribiquete National Park in the Amazon. , Lauren Sánc…\n",
      "\n",
      "52) LOTR Super Bowl teaser... \n",
      "\n",
      "53) : Exclusive 🚨: V.F. has your first official look at ’s The Lord of the Rings: TheRingsOfPower. Welcome back to Mi…\n",
      "\n",
      "54) Alexa, play our new Super Bowl ad. \n",
      "\n",
      "55) It was a year ago that the White House launched Justice40. Proud of the Earth Fund team for helping drive it forward. \n",
      "\n",
      "56) Thanks . 25 years ago today. Note the Netscape browser. \n",
      "\n",
      "57) (2/2) All of Edwardsville should know that the Amazon team is committed to supporting them and will be by their side through this crisis. We extend our fullest gratitude to all the incredible first responders who have worked so tirelessly at the site.\n",
      "\n",
      "58) Loved being with  on Thursday Night Football. Gave him a little something to pack for his flight. \n",
      "\n",
      "59) Congrats again, DJ. No one more deserving than you for the People’s Champ Award. \n",
      "\n",
      "60) Today the Washington Post and the world lost an exceptional journalist and remarkable man: long-time Editorial Page Editor Fred Hiatt. I will miss his thoughtfulness, professionalism, and warm friendship. Our thoughts are with his beloved family at this difficult time. \n",
      "\n",
      "61) : We are pleased to announce $443M in grants to advance environmental justice, conserve and restore nature, and improve m…\n",
      "\n",
      "62) Welcome aboard, Michael! \n",
      "\n",
      "63) (2/2) This year’s grants go to 32 groups led by experts who are making a difference in their communities, and the funds will help them further expand their important work. \n",
      "\n",
      "64) (2/2) Our deepest sympathies are with his partner, Leah, and all his loved ones. The world lost you too soon, Glen.\n",
      "\n",
      "65) Such a tragic loss. Warm and full of life, Glen made us laugh and lit up the room. He was a visionary, and an innovator – a true leader. Lauren and I are heartbroken and will remember the precious time we got to spend together. (1/2) \n",
      "\n",
      "66) Congrats on this important work, . As you say: build longer tables, not higher walls.  \n",
      "\n",
      "67) Not the decision we wanted, but we respect the court’s judgment, and wish full success for NASA and SpaceX on the contract. \n",
      "\n",
      "68) Very proud to be one of the founding funders of Prince William’s Earthshot Prize. It’s easy to see how passionate and thoughtful he is about this important work. \n",
      "\n",
      "69) : Listening, learning, and collaborating on bold ideas with leaders from around the world on Day One of COP26. We’re bac…\n",
      "\n",
      "70) (2/2) transnational marine protected area on the planet, covering an area larger than California. Thank you to this group for their boldness on this important work.\n",
      "\n",
      "71) At COP26, Lauren and I discussed conservation of land and sea with leaders from Colombia, Ecuador, Panama, Costa Rica, and Bolivia. Together, they oversee one of the most diverse regions on earth. The  is working with them to help create the largest (1/2) \n",
      "\n",
      "72) Wonderful meeting with Tuntiak Katan from the Shuar tribe in Ecuador and Solange Bandiaky-Badji, from the Rights and Resources Institute. Indigenous peoples are custodians of over a third of the world’s tropical forests. We must champion their efforts to protect our planet. \n",
      "\n",
      "73) The Prince of Wales has been involved in fighting climate change and protecting our beautiful world far longer than most. We had a chance to discuss these important issues on the eve of COP26 — looking for solutions to heal our world, and how the  can help. \n",
      "\n"
     ]
    }
   ],
   "source": [
    "j = 1\n",
    "sortedDF = df.sort_values(by=['Polarity'])\n",
    "for i in range(0, sortedDF.shape[0]):\n",
    "    if(sortedDF['Analysis'][i] == 'Positive'):\n",
    "        print(str(j) + ') '+ sortedDF['Tweets'][i])\n",
    "        print()\n",
    "        j = j + 1"
   ]
  },
  {
   "cell_type": "markdown",
   "id": "85680ab1-b4bc-43ba-aca1-825ac6b7f8af",
   "metadata": {
    "tags": []
   },
   "source": [
    "## Show all negative tweets"
   ]
  },
  {
   "cell_type": "code",
   "execution_count": 202,
   "id": "d2b2cd5c-9fb8-4f36-8da6-4f14458e6029",
   "metadata": {},
   "outputs": [
    {
     "name": "stdout",
     "output_type": "stream",
     "text": [
      "1)   Thank you. I’ve been working hard on my ass.\n",
      "\n",
      "2) _gul Agree with you it’s sad\n",
      "\n",
      "3) If you’re looking for some scary bedtime reading… \n",
      "\n",
      "4) The news from Edwardsville is tragic. We’re heartbroken over the loss of our teammates there, and our thoughts and prayers are with their families and loved ones. (1/2)\n",
      "\n",
      "5) For the fourth year in a row, the Bezos Day 1 Families Fund is making donations to organizations helping families in need across the U.S. These grants will provide support including housing, food, clothing, and other resources to help families get back on their feet. (1/2) \n",
      "\n"
     ]
    }
   ],
   "source": [
    "j = 1\n",
    "sortedDF = df.sort_values(by=['Polarity'], ascending='False')\n",
    "for i in range(0, sortedDF.shape[0]):\n",
    "    if(sortedDF['Analysis'][i] == 'Negative'):\n",
    "        print(str(j) + ') '+ sortedDF['Tweets'][i])\n",
    "        print()\n",
    "        j = j + 1"
   ]
  },
  {
   "cell_type": "markdown",
   "id": "2293a4f2-542e-457f-a077-62d94c091005",
   "metadata": {},
   "source": [
    "## Plot the polarity and subjectivity"
   ]
  },
  {
   "cell_type": "code",
   "execution_count": 203,
   "id": "37da9b98-08dc-4b24-a5cb-b1bd64c024a1",
   "metadata": {},
   "outputs": [
    {
     "data": {
      "image/png": "[encoded data removed]",
      "text/plain": [
       "<Figure size 576x432 with 1 Axes>"
      ]
     },
     "metadata": {},
     "output_type": "display_data"
    }
   ],
   "source": [
    "plt.figure(figsize=(8,6))\n",
    "for i in range(0, df.shape[0]):\n",
    "    plt.scatter(df['Polarity'][i], df['Subjectivity'][i], color='Blue')\n",
    "    \n",
    "plt.title('Sentiment Analysis')\n",
    "plt.xlabel('Polarity')\n",
    "plt.ylabel('Subjectivity')\n",
    "\n",
    "# Save the graph\n",
    "plt.savefig('Polarity_vs_Subjectivity.png')\n",
    "\n",
    "# Show the graph\n",
    "plt.show()\n"
   ]
  },
  {
   "cell_type": "markdown",
   "id": "8108787f-320d-4e62-8886-097d3d50a018",
   "metadata": {
    "tags": []
   },
   "source": [
    "## Percentage of positive tweets"
   ]
  },
  {
   "cell_type": "code",
   "execution_count": 204,
   "id": "8852d405-e848-496d-af61-a5854592c87d",
   "metadata": {},
   "outputs": [
    {
     "data": {
      "text/plain": [
       "73.0"
      ]
     },
     "execution_count": 204,
     "metadata": {},
     "output_type": "execute_result"
    }
   ],
   "source": [
    "ptweets = df[df.Analysis == 'Positive']\n",
    "ptweets = ptweets['Tweets']\n",
    "\n",
    "# Round by first decimal value\n",
    "round((ptweets.shape[0] / df.shape[0]) * 100, 1)"
   ]
  },
  {
   "cell_type": "markdown",
   "id": "951180eb-b523-46c3-97c5-418ca387aba0",
   "metadata": {},
   "source": [
    "## Percentage of negative tweets"
   ]
  },
  {
   "cell_type": "code",
   "execution_count": 205,
   "id": "ace43b08-53b3-46d0-baa1-5b087f4962b6",
   "metadata": {},
   "outputs": [
    {
     "data": {
      "text/plain": [
       "5.0"
      ]
     },
     "execution_count": 205,
     "metadata": {},
     "output_type": "execute_result"
    }
   ],
   "source": [
    "ntweets = df[df.Analysis == 'Negative']\n",
    "ntweets = ntweets['Tweets']\n",
    "\n",
    "# Round by first decimal value\n",
    "round((ntweets.shape[0] / df.shape[0]) * 100, 1)"
   ]
  },
  {
   "cell_type": "markdown",
   "id": "16109318-aa45-427e-8b56-5a8a42548998",
   "metadata": {},
   "source": [
    "## Percentage of neutral tweets"
   ]
  },
  {
   "cell_type": "code",
   "execution_count": 206,
   "id": "218b4807-1264-447d-a43a-f7bb03e449e2",
   "metadata": {},
   "outputs": [
    {
     "data": {
      "text/plain": [
       "22.0"
      ]
     },
     "execution_count": 206,
     "metadata": {},
     "output_type": "execute_result"
    }
   ],
   "source": [
    "neu_tweets = df[df.Analysis == 'Neutral']\n",
    "neu_tweets = neu_tweets['Tweets']\n",
    "\n",
    "# Round by first decimal value\n",
    "round((neu_tweets.shape[0] / df.shape[0]) * 100, 1)"
   ]
  },
  {
   "cell_type": "markdown",
   "id": "72394af2-cbf6-4b0b-99cc-020bf3b7ea80",
   "metadata": {},
   "source": [
    "## Plot the counts"
   ]
  },
  {
   "cell_type": "code",
   "execution_count": 207,
   "id": "74e0a5b4-c439-4c63-a1d1-cf3611188914",
   "metadata": {},
   "outputs": [
    {
     "data": {
      "image/png": "[encoded data removed]",
      "text/plain": [
       "<Figure size 432x288 with 1 Axes>"
      ]
     },
     "metadata": {},
     "output_type": "display_data"
    }
   ],
   "source": [
    "df['Analysis'].value_counts()\n",
    "\n",
    "plt.title('Sentiment Analysis')\n",
    "plt.xlabel('Sentiment')\n",
    "plt.ylabel('Counts')\n",
    "df['Analysis'].value_counts().plot(kind='bar')\n",
    "\n",
    "# Save the graph\n",
    "plt.savefig('Sentiments_vs_Counts.png')\n",
    "\n",
    "# Show the graph\n",
    "plt.show()"
   ]
  }
 ],
 "metadata": {
  "kernelspec": {
   "display_name": "Python 3 (ipykernel)",
   "language": "python",
   "name": "python3"
  },
  "language_info": {
   "codemirror_mode": {
    "name": "ipython",
    "version": 3
   },
   "file_extension": ".py",
   "mimetype": "text/x-python",
   "name": "python",
   "nbconvert_exporter": "python",
   "pygments_lexer": "ipython3",
   "version": "3.9.7"
  }
 },
 "nbformat": 4,
 "nbformat_minor": 5
}
